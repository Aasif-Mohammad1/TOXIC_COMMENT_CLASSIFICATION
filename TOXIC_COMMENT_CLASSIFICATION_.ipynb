{
  "nbformat": 4,
  "nbformat_minor": 0,
  "metadata": {
    "colab": {
      "name": "TOXIC_COMMENT_CLASSIFICATION .ipynb",
      "provenance": []
    },
    "kernelspec": {
      "name": "python3",
      "display_name": "Python 3"
    },
    "language_info": {
      "name": "python"
    }
  },
  "cells": [
    {
      "cell_type": "code",
      "execution_count": 1,
      "metadata": {
        "colab": {
          "base_uri": "https://localhost:8080/"
        },
        "id": "exuvQond--DH",
        "outputId": "c92f4e14-b582-44f8-c647-906da348a271"
      },
      "outputs": [
        {
          "output_type": "stream",
          "name": "stderr",
          "text": [
            "[nltk_data] Downloading package stopwords to /root/nltk_data...\n",
            "[nltk_data]   Unzipping corpora/stopwords.zip.\n"
          ]
        },
        {
          "output_type": "execute_result",
          "data": {
            "text/plain": [
              "True"
            ]
          },
          "metadata": {},
          "execution_count": 1
        }
      ],
      "source": [
        "import numpy as np\n",
        "import pandas as pd\n",
        "import seaborn as sns\n",
        "import matplotlib.pyplot as plt\n",
        "import matplotlib.cm as cm\n",
        "import nltk\n",
        "from bs4 import BeautifulSoup\n",
        "import re,string\n",
        "\n",
        "import os\n",
        "import warnings\n",
        "warnings.filterwarnings('ignore')\n",
        "nltk.download('stopwords')"
      ]
    },
    {
      "cell_type": "code",
      "source": [
        "from google.colab import drive\n",
        "drive.mount('/content/gdrive')"
      ],
      "metadata": {
        "colab": {
          "base_uri": "https://localhost:8080/"
        },
        "id": "5LJgj6Eb-_Xy",
        "outputId": "29635a45-32f3-4a81-8a4d-7d737cea8ec3"
      },
      "execution_count": 2,
      "outputs": [
        {
          "output_type": "stream",
          "name": "stdout",
          "text": [
            "Mounted at /content/gdrive\n"
          ]
        }
      ]
    },
    {
      "cell_type": "code",
      "source": [
        "#Importing the training data\n",
        "imdb=pd.read_csv('/content/gdrive/MyDrive/IMDB Dataset.csv',nrows=10000)\n",
        "print(imdb.shape)\n",
        "imdb.head(10)"
      ],
      "metadata": {
        "colab": {
          "base_uri": "https://localhost:8080/",
          "height": 381
        },
        "id": "K17StyDw_DeO",
        "outputId": "d7adb007-4eda-4ab1-ac84-5e76961ff202"
      },
      "execution_count": 3,
      "outputs": [
        {
          "output_type": "stream",
          "name": "stdout",
          "text": [
            "(10000, 2)\n"
          ]
        },
        {
          "output_type": "execute_result",
          "data": {
            "text/plain": [
              "                                              review sentiment\n",
              "0  One of the other reviewers has mentioned that ...  positive\n",
              "1  A wonderful little production. <br /><br />The...  positive\n",
              "2  I thought this was a wonderful way to spend ti...  positive\n",
              "3  Basically there's a family where a little boy ...  negative\n",
              "4  Petter Mattei's \"Love in the Time of Money\" is...  positive\n",
              "5  Probably my all-time favorite movie, a story o...  positive\n",
              "6  I sure would like to see a resurrection of a u...  positive\n",
              "7  This show was an amazing, fresh & innovative i...  negative\n",
              "8  Encouraged by the positive comments about this...  negative\n",
              "9  If you like original gut wrenching laughter yo...  positive"
            ],
            "text/html": [
              "\n",
              "  <div id=\"df-cb4f9824-67dd-41f9-978e-71447f3fd863\">\n",
              "    <div class=\"colab-df-container\">\n",
              "      <div>\n",
              "<style scoped>\n",
              "    .dataframe tbody tr th:only-of-type {\n",
              "        vertical-align: middle;\n",
              "    }\n",
              "\n",
              "    .dataframe tbody tr th {\n",
              "        vertical-align: top;\n",
              "    }\n",
              "\n",
              "    .dataframe thead th {\n",
              "        text-align: right;\n",
              "    }\n",
              "</style>\n",
              "<table border=\"1\" class=\"dataframe\">\n",
              "  <thead>\n",
              "    <tr style=\"text-align: right;\">\n",
              "      <th></th>\n",
              "      <th>review</th>\n",
              "      <th>sentiment</th>\n",
              "    </tr>\n",
              "  </thead>\n",
              "  <tbody>\n",
              "    <tr>\n",
              "      <th>0</th>\n",
              "      <td>One of the other reviewers has mentioned that ...</td>\n",
              "      <td>positive</td>\n",
              "    </tr>\n",
              "    <tr>\n",
              "      <th>1</th>\n",
              "      <td>A wonderful little production. &lt;br /&gt;&lt;br /&gt;The...</td>\n",
              "      <td>positive</td>\n",
              "    </tr>\n",
              "    <tr>\n",
              "      <th>2</th>\n",
              "      <td>I thought this was a wonderful way to spend ti...</td>\n",
              "      <td>positive</td>\n",
              "    </tr>\n",
              "    <tr>\n",
              "      <th>3</th>\n",
              "      <td>Basically there's a family where a little boy ...</td>\n",
              "      <td>negative</td>\n",
              "    </tr>\n",
              "    <tr>\n",
              "      <th>4</th>\n",
              "      <td>Petter Mattei's \"Love in the Time of Money\" is...</td>\n",
              "      <td>positive</td>\n",
              "    </tr>\n",
              "    <tr>\n",
              "      <th>5</th>\n",
              "      <td>Probably my all-time favorite movie, a story o...</td>\n",
              "      <td>positive</td>\n",
              "    </tr>\n",
              "    <tr>\n",
              "      <th>6</th>\n",
              "      <td>I sure would like to see a resurrection of a u...</td>\n",
              "      <td>positive</td>\n",
              "    </tr>\n",
              "    <tr>\n",
              "      <th>7</th>\n",
              "      <td>This show was an amazing, fresh &amp; innovative i...</td>\n",
              "      <td>negative</td>\n",
              "    </tr>\n",
              "    <tr>\n",
              "      <th>8</th>\n",
              "      <td>Encouraged by the positive comments about this...</td>\n",
              "      <td>negative</td>\n",
              "    </tr>\n",
              "    <tr>\n",
              "      <th>9</th>\n",
              "      <td>If you like original gut wrenching laughter yo...</td>\n",
              "      <td>positive</td>\n",
              "    </tr>\n",
              "  </tbody>\n",
              "</table>\n",
              "</div>\n",
              "      <button class=\"colab-df-convert\" onclick=\"convertToInteractive('df-cb4f9824-67dd-41f9-978e-71447f3fd863')\"\n",
              "              title=\"Convert this dataframe to an interactive table.\"\n",
              "              style=\"display:none;\">\n",
              "        \n",
              "  <svg xmlns=\"http://www.w3.org/2000/svg\" height=\"24px\"viewBox=\"0 0 24 24\"\n",
              "       width=\"24px\">\n",
              "    <path d=\"M0 0h24v24H0V0z\" fill=\"none\"/>\n",
              "    <path d=\"M18.56 5.44l.94 2.06.94-2.06 2.06-.94-2.06-.94-.94-2.06-.94 2.06-2.06.94zm-11 1L8.5 8.5l.94-2.06 2.06-.94-2.06-.94L8.5 2.5l-.94 2.06-2.06.94zm10 10l.94 2.06.94-2.06 2.06-.94-2.06-.94-.94-2.06-.94 2.06-2.06.94z\"/><path d=\"M17.41 7.96l-1.37-1.37c-.4-.4-.92-.59-1.43-.59-.52 0-1.04.2-1.43.59L10.3 9.45l-7.72 7.72c-.78.78-.78 2.05 0 2.83L4 21.41c.39.39.9.59 1.41.59.51 0 1.02-.2 1.41-.59l7.78-7.78 2.81-2.81c.8-.78.8-2.07 0-2.86zM5.41 20L4 18.59l7.72-7.72 1.47 1.35L5.41 20z\"/>\n",
              "  </svg>\n",
              "      </button>\n",
              "      \n",
              "  <style>\n",
              "    .colab-df-container {\n",
              "      display:flex;\n",
              "      flex-wrap:wrap;\n",
              "      gap: 12px;\n",
              "    }\n",
              "\n",
              "    .colab-df-convert {\n",
              "      background-color: #E8F0FE;\n",
              "      border: none;\n",
              "      border-radius: 50%;\n",
              "      cursor: pointer;\n",
              "      display: none;\n",
              "      fill: #1967D2;\n",
              "      height: 32px;\n",
              "      padding: 0 0 0 0;\n",
              "      width: 32px;\n",
              "    }\n",
              "\n",
              "    .colab-df-convert:hover {\n",
              "      background-color: #E2EBFA;\n",
              "      box-shadow: 0px 1px 2px rgba(60, 64, 67, 0.3), 0px 1px 3px 1px rgba(60, 64, 67, 0.15);\n",
              "      fill: #174EA6;\n",
              "    }\n",
              "\n",
              "    [theme=dark] .colab-df-convert {\n",
              "      background-color: #3B4455;\n",
              "      fill: #D2E3FC;\n",
              "    }\n",
              "\n",
              "    [theme=dark] .colab-df-convert:hover {\n",
              "      background-color: #434B5C;\n",
              "      box-shadow: 0px 1px 3px 1px rgba(0, 0, 0, 0.15);\n",
              "      filter: drop-shadow(0px 1px 2px rgba(0, 0, 0, 0.3));\n",
              "      fill: #FFFFFF;\n",
              "    }\n",
              "  </style>\n",
              "\n",
              "      <script>\n",
              "        const buttonEl =\n",
              "          document.querySelector('#df-cb4f9824-67dd-41f9-978e-71447f3fd863 button.colab-df-convert');\n",
              "        buttonEl.style.display =\n",
              "          google.colab.kernel.accessAllowed ? 'block' : 'none';\n",
              "\n",
              "        async function convertToInteractive(key) {\n",
              "          const element = document.querySelector('#df-cb4f9824-67dd-41f9-978e-71447f3fd863');\n",
              "          const dataTable =\n",
              "            await google.colab.kernel.invokeFunction('convertToInteractive',\n",
              "                                                     [key], {});\n",
              "          if (!dataTable) return;\n",
              "\n",
              "          const docLinkHtml = 'Like what you see? Visit the ' +\n",
              "            '<a target=\"_blank\" href=https://colab.research.google.com/notebooks/data_table.ipynb>data table notebook</a>'\n",
              "            + ' to learn more about interactive tables.';\n",
              "          element.innerHTML = '';\n",
              "          dataTable['output_type'] = 'display_data';\n",
              "          await google.colab.output.renderOutput(dataTable, element);\n",
              "          const docLink = document.createElement('div');\n",
              "          docLink.innerHTML = docLinkHtml;\n",
              "          element.appendChild(docLink);\n",
              "        }\n",
              "      </script>\n",
              "    </div>\n",
              "  </div>\n",
              "  "
            ]
          },
          "metadata": {},
          "execution_count": 3
        }
      ]
    },
    {
      "cell_type": "code",
      "source": [
        "#Collating all functions together and applying them for the 'IMDb reviews' dataset\n",
        "def strip_html(text):\n",
        "    soup = BeautifulSoup(text, \"html.parser\")\n",
        "    return soup.get_text()\n",
        "\n",
        "#Removing emojis\n",
        "def deEmojify(text):\n",
        "    regrex_pattern = re.compile(pattern = \"[\"\n",
        "        u\"\\U0001F600-\\U0001F64F\"  # emoticons\n",
        "        u\"\\U0001F300-\\U0001F5FF\"  # symbols & pictographs\n",
        "        u\"\\U0001F680-\\U0001F6FF\"  # transport & map symbols                                                                         \n",
        "        u\"\\U0001F1E0-\\U0001F1FF\"  # flags (iOS)\n",
        "                           \"]+\", flags = re.UNICODE)\n",
        "    return regrex_pattern.sub(r'',text)\n",
        "\n",
        "#Text-encoding: UTF-8 encoder\n",
        "def to_unicode(text):\n",
        "    if isinstance(text, float):\n",
        "        text = str(text)\n",
        "    if isinstance(text, int):\n",
        "        text = str(text)\n",
        "    if not isinstance(text, str):\n",
        "        text = text.decode('utf-8', 'ignore')\n",
        "    return text\n",
        "#Removing the square brackets\n",
        "def remove_between_square_brackets(text):\n",
        "    return re.sub('\\[[^]]*\\]', '', text)\n",
        "\n",
        "\n",
        "#Define function for removing special characters\n",
        "def remove_special_characters(text, remove_digits=True):\n",
        "    pattern=r'[^a-zA-z0-9\\s]'\n",
        "    text=re.sub(pattern,'',text)\n",
        "    return text\n",
        "\n",
        "#Removing the noisy text\n",
        "def denoise_text(text):\n",
        "    text = to_unicode(text)\n",
        "    text = strip_html(text)\n",
        "    text = re.sub(r\"http\\S+\", \"\", text)\n",
        "    text = deEmojify(text)\n",
        "    text = text.encode('ascii', 'ignore')\n",
        "    text = to_unicode(text)\n",
        "    text = remove_between_square_brackets(text)\n",
        "    text = remove_special_characters(text)\n",
        "    text = text.lower()\n",
        "    return text\n"
      ],
      "metadata": {
        "id": "l8_-HwTG_NBS"
      },
      "execution_count": 4,
      "outputs": []
    },
    {
      "cell_type": "code",
      "source": [
        "imdb['review'][111]"
      ],
      "metadata": {
        "colab": {
          "base_uri": "https://localhost:8080/",
          "height": 145
        },
        "id": "u8Kqyxrs_TZu",
        "outputId": "af27a000-fe44-483a-f6a2-915ca2e44d7f"
      },
      "execution_count": 5,
      "outputs": [
        {
          "output_type": "execute_result",
          "data": {
            "text/plain": [
              "\"I liked Boyle's performance, but that's about the only positive thing I can say. Everything was overdone to the point of absurdity. Most of the actors spoke like you would expect your 9-year-old nephew to speak if he were pretending to be a jaded, stone-hearted cop, or an ultra-evil villain. The raspy voice-overs seemed amateurish to me. I could go buy a cheap synthesizer and crank out better opening music. And what's with the whole 1984ish police torture stuff? It was totally superfluous and had nothing to do with the actual events of the story. Cox added a lot of things, in fact, that he apparently thought would be really cool, but had nothing to do with the story. That's a big disappointment because one of the things that makes Borges' stories so good is his minimalism -- they are tightly bound, with no superfluous details. This movie is just the opposite. I stopped watching after the scene where Lonnrot is questioning the guy from the Yidische Zaitung, or thereabouts. I wasted $4 renting this, but at least I can get some satisfaction from writing this review and hopefully saving others from making the same mistake.\""
            ],
            "application/vnd.google.colaboratory.intrinsic+json": {
              "type": "string"
            }
          },
          "metadata": {},
          "execution_count": 5
        }
      ]
    },
    {
      "cell_type": "code",
      "source": [
        "#Apply function on review column\n",
        "imdb['review']=imdb['review'].apply(denoise_text)\n",
        "\n",
        "imdb['review'].head()"
      ],
      "metadata": {
        "colab": {
          "base_uri": "https://localhost:8080/"
        },
        "id": "7eHdAStz_clF",
        "outputId": "f367db3c-2598-4e0a-bc37-099f2a3317a6"
      },
      "execution_count": 6,
      "outputs": [
        {
          "output_type": "execute_result",
          "data": {
            "text/plain": [
              "0    one of the other reviewers has mentioned that ...\n",
              "1    a wonderful little production the filming tech...\n",
              "2    i thought this was a wonderful way to spend ti...\n",
              "3    basically theres a family where a little boy j...\n",
              "4    petter matteis love in the time of money is a ...\n",
              "Name: review, dtype: object"
            ]
          },
          "metadata": {},
          "execution_count": 6
        }
      ]
    },
    {
      "cell_type": "code",
      "source": [
        "#Processed example of a randomly selected review\n",
        "imdb['review'][111]"
      ],
      "metadata": {
        "colab": {
          "base_uri": "https://localhost:8080/",
          "height": 145
        },
        "id": "HnR9m30D_gFf",
        "outputId": "e7093add-b3ef-4143-85ea-70fccbcada44"
      },
      "execution_count": 7,
      "outputs": [
        {
          "output_type": "execute_result",
          "data": {
            "text/plain": [
              "'i liked boyles performance but thats about the only positive thing i can say everything was overdone to the point of absurdity most of the actors spoke like you would expect your 9yearold nephew to speak if he were pretending to be a jaded stonehearted cop or an ultraevil villain the raspy voiceovers seemed amateurish to me i could go buy a cheap synthesizer and crank out better opening music and whats with the whole 1984ish police torture stuff it was totally superfluous and had nothing to do with the actual events of the story cox added a lot of things in fact that he apparently thought would be really cool but had nothing to do with the story thats a big disappointment because one of the things that makes borges stories so good is his minimalism  they are tightly bound with no superfluous details this movie is just the opposite i stopped watching after the scene where lonnrot is questioning the guy from the yidische zaitung or thereabouts i wasted 4 renting this but at least i can get some satisfaction from writing this review and hopefully saving others from making the same mistake'"
            ],
            "application/vnd.google.colaboratory.intrinsic+json": {
              "type": "string"
            }
          },
          "metadata": {},
          "execution_count": 7
        }
      ]
    },
    {
      "cell_type": "code",
      "source": [
        "from nltk.corpus import stopwords\n",
        "from nltk.tokenize.toktok import ToktokTokenizer\n",
        "\n",
        "#Tokenization of text\n",
        "tokenizer=ToktokTokenizer() #for every function\n",
        "\n",
        "#Setting English stopwords\n",
        "stopword_list=nltk.corpus.stopwords.words('english')"
      ],
      "metadata": {
        "id": "EO8TTClL_mL_"
      },
      "execution_count": 8,
      "outputs": []
    },
    {
      "cell_type": "code",
      "source": [
        "from nltk.tokenize import word_tokenize,sent_tokenize\n",
        "\n",
        "#You can either remove stopwords before or after stemming. But since this is a review context, we expect users to have used many different words and we did\n",
        "# stemming before filtering for stopwords.\n",
        "\n",
        "stop=set(stopwords.words('english'))\n",
        "print(stop)\n",
        "\n",
        "#Removing the stopwords\n",
        "def remove_stopwords(text, is_lower_case=False):\n",
        "    tokens = tokenizer.tokenize(text)\n",
        "    tokens = [token.strip() for token in tokens]\n",
        "    if is_lower_case:\n",
        "        filtered_tokens = [token for token in tokens if token not in stopword_list]\n",
        "    else:\n",
        "        filtered_tokens = [token for token in tokens if token.lower() not in stopword_list]\n",
        "    filtered_text = ' '.join(filtered_tokens)    \n",
        "    return filtered_text\n",
        "\n",
        "#Apply function on review column\n",
        "imdb['review']=imdb['review'].apply(remove_stopwords)"
      ],
      "metadata": {
        "colab": {
          "base_uri": "https://localhost:8080/"
        },
        "id": "xdbPptHV_nng",
        "outputId": "ac7985da-805d-47de-d50a-37b79b467de6"
      },
      "execution_count": 9,
      "outputs": [
        {
          "output_type": "stream",
          "name": "stdout",
          "text": [
            "{'who', \"she's\", 'didn', 'needn', 'doing', 'its', 'then', \"haven't\", 'hers', 'during', 'how', 'have', 'own', 'same', 'herself', 'yours', 'in', 're', \"aren't\", 'or', \"mightn't\", 'out', 'should', \"you've\", 'him', 'are', 'before', 'themselves', 'doesn', 'from', 'such', \"needn't\", 'down', 'once', 'does', \"doesn't\", 'is', 'being', 'through', 'shouldn', 'those', 'am', 'hadn', 'not', 't', 'ain', 'only', 'hasn', 'ma', \"hadn't\", 'where', 'all', 'which', 'up', \"mustn't\", 'be', 'these', 'shan', 'there', 'were', 'having', 'nor', 'an', 'won', 'itself', 'theirs', 'he', 'of', 'some', 'why', \"you're\", 'by', 'll', 'your', 'weren', 'so', 'any', 'to', 'no', 'the', 'when', 'mustn', \"don't\", 'me', \"isn't\", 'here', 'that', 'd', 'most', 'i', 'a', 'off', 'whom', 'we', 'aren', 'against', 'too', \"should've\", 'their', \"hasn't\", 'yourself', 'been', 'it', 'wouldn', 'they', 'very', 'and', 'what', \"won't\", 'wasn', \"shouldn't\", 'was', 'above', 'you', \"wouldn't\", 'over', \"weren't\", 'with', 'y', \"didn't\", 'can', 'do', 'has', 'our', 'than', \"that'll\", \"it's\", \"shan't\", 'my', 'each', 'after', 'don', 'few', 'haven', 'both', 'under', 'will', 've', 'o', 'ourselves', 'for', 'further', 'yourselves', 'at', 'mightn', \"you'll\", 'on', 's', 'as', \"couldn't\", 'she', 'her', 'about', 'did', 'into', 'again', 'ours', 'his', 'had', 'below', 'm', 'isn', 'because', 'couldn', \"you'd\", 'but', 'between', 'just', 'now', 'them', 'myself', 'himself', 'this', 'until', 'more', \"wasn't\", 'while', 'other', 'if'}\n"
          ]
        }
      ]
    },
    {
      "cell_type": "code",
      "source": [
        "#Example of randomly selected review text\n",
        "imdb['review'][678]"
      ],
      "metadata": {
        "colab": {
          "base_uri": "https://localhost:8080/",
          "height": 145
        },
        "id": "MvSHBkSl_tE4",
        "outputId": "3ed7380b-caa0-4ac1-fa92-7bc905e73470"
      },
      "execution_count": 10,
      "outputs": [
        {
          "output_type": "execute_result",
          "data": {
            "text/plain": [
              "'adenoid hynkel lowly soldier world war one rises subsequent years become ruthless dictator toumania creates aggressive antisemitic war machine cultivates little toothbrush moustache sound like anyone knowfrom safety hollywood chaplin uses soapbox exhort europe take arms defy hitler mussolini given united states 1940 year neutrality ahead strong desire embroil europes civil strife remember hitler declared war usa way round surprising chaplin allowed distribute immoderate polemicthe story involves one hand vulgar repellant hynkel reign terror ineptly presides life jewish ghetto every single person friendly humane brave etc etc chaplin hynkel also plays jewish barber little hero ghetto tramp name needless say chaplin writes directs stars composes music cateringin 1940 full truth yet known third reich chaplin forgiven something less perfect historical foresight even standards day gets hitler badly wrong comedian sentimentalist chaplin tries ridicule hitler making hynkel silly hapless humanise hynkel notverywarlike soldier fools around big gun upsidedown aeroplane becomes endearing rather despicable dictator inspects subordinates technical innovations dont work parachute hat bulletproof uniform etc passages meant make us think reallife nazis incompetent swept aside fact hynkels regime made cute likeable bumbling bodgeryin truth chaplins day already passed made illconsidered polemic heart still dinosaur silent screen check humour gags like staggering street semiconscious pantomime coins puddings hero schultz meant represent yardstick european decency hynkel judged schultz looks like character operetta nazi way believable schultz figure existed would say fuehrers face cause doomed failure built upon stupid ruthless persecution innocent people schultz come cellars jewish ghetto object exhaustive manhunt persist wearing ruritanian uniform chaplin yet know full horrors auschwitzbirkenau treblinka nazi concentration camp offers us hopelessly kilter grim spirit age usual chaplin thinks terms silent comedy setpieces loosely pegged onto narrative clothes line knockabout scrapping stormtroopers shaving man accompaniment brahms globe ballet watch segment filmed reversepaulette goddard unremittingly perfect hannah people ghetto impossibly nice jewish osterlich ridiculously idyllic hannah quite literally good true brave defiant resourceful hardworking course beautiful canary judaism ghetto cage gee aint cute asks barber gives makeover cute far answer doesnt come close ringing true chaplin made caricature wouldnt wonderful speech chaplin puts mouth typical author wordy emotionally cloyingjack oakie great napaloni fascist dictator bacteria brings whiff muchneeded comic brio proceedings films underlying weakness remains napaloni silly ineffective fear anyway stuttering stopstart backprojected train fine chaplinesque example gag persisted far beyond comic worthand jewish barber acquire immaculate hynkel uniform'"
            ],
            "application/vnd.google.colaboratory.intrinsic+json": {
              "type": "string"
            }
          },
          "metadata": {},
          "execution_count": 10
        }
      ]
    },
    {
      "cell_type": "code",
      "source": [
        "\n",
        "# STEMMING AND LEMITISATION\n",
        "from nltk.stem import WordNetLemmatizer,SnowballStemmer\n",
        "nltk.download('wordnet')\n",
        "\n",
        "def simple_stemmer(text):\n",
        "    ps=SnowballStemmer(language='english')\n",
        "    return ' '.join([ps.stem(word) for word in tokenizer.tokenize(text)])"
      ],
      "metadata": {
        "colab": {
          "base_uri": "https://localhost:8080/"
        },
        "id": "zRjG-s8F_x_I",
        "outputId": "812c340f-55b3-4b86-c6c9-48962b232eb4"
      },
      "execution_count": 11,
      "outputs": [
        {
          "output_type": "stream",
          "name": "stderr",
          "text": [
            "[nltk_data] Downloading package wordnet to /root/nltk_data...\n"
          ]
        }
      ]
    },
    {
      "cell_type": "code",
      "source": [
        "imdb['review'][1]"
      ],
      "metadata": {
        "colab": {
          "base_uri": "https://localhost:8080/",
          "height": 109
        },
        "id": "M-SJqlso_90-",
        "outputId": "e8abf704-fa33-45dc-a734-9dda75eaeb1a"
      },
      "execution_count": 12,
      "outputs": [
        {
          "output_type": "execute_result",
          "data": {
            "text/plain": [
              "'wonderful little production filming technique unassuming oldtimebbc fashion gives comforting sometimes discomforting sense realism entire piece actors extremely well chosen michael sheen got polari voices pat truly see seamless editing guided references williams diary entries well worth watching terrificly written performed piece masterful production one great masters comedy life realism really comes home little things fantasy guard rather use traditional dream techniques remains solid disappears plays knowledge senses particularly scenes concerning orton halliwell sets particularly flat halliwells murals decorating every surface terribly well done'"
            ],
            "application/vnd.google.colaboratory.intrinsic+json": {
              "type": "string"
            }
          },
          "metadata": {},
          "execution_count": 12
        }
      ]
    },
    {
      "cell_type": "code",
      "source": [
        "%time simple_stemmer(imdb['review'][1])"
      ],
      "metadata": {
        "colab": {
          "base_uri": "https://localhost:8080/",
          "height": 127
        },
        "id": "XSd0SXzsAAoX",
        "outputId": "246b7afc-51d4-43f9-abc5-9cafd1a517da"
      },
      "execution_count": 13,
      "outputs": [
        {
          "output_type": "stream",
          "name": "stdout",
          "text": [
            "CPU times: user 2.25 ms, sys: 0 ns, total: 2.25 ms\n",
            "Wall time: 2.25 ms\n"
          ]
        },
        {
          "output_type": "execute_result",
          "data": {
            "text/plain": [
              "'wonder littl product film techniqu unassum oldtimebbc fashion give comfort sometim discomfort sens realism entir piec actor extrem well chosen michael sheen got polari voic pat truli see seamless edit guid refer william diari entri well worth watch terrif written perform piec master product one great master comedi life realism realli come home littl thing fantasi guard rather use tradit dream techniqu remain solid disappear play knowledg sens particular scene concern orton halliwel set particular flat halliwel mural decor everi surfac terribl well done'"
            ],
            "application/vnd.google.colaboratory.intrinsic+json": {
              "type": "string"
            }
          },
          "metadata": {},
          "execution_count": 13
        }
      ]
    },
    {
      "cell_type": "code",
      "source": [
        "from nltk.tag import pos_tag\n",
        "from nltk.tokenize import word_tokenize\n",
        "nltk.download('punkt')\n",
        "nltk.download('averaged_perceptron_tagger')\n",
        "\n",
        "#Lemmatizer example\n",
        "def lemmatize_all(sentence):\n",
        "    wnl = WordNetLemmatizer()\n",
        "    for word, tag in pos_tag(word_tokenize(sentence)):\n",
        "        if tag.startswith(\"NN\"):\n",
        "            yield wnl.lemmatize(word, pos='n')\n",
        "        elif tag.startswith('VB'):\n",
        "            yield wnl.lemmatize(word, pos='v')\n",
        "        elif tag.startswith('JJ'):\n",
        "            yield wnl.lemmatize(word, pos='a')\n",
        "        else:\n",
        "            yield word\n",
        "            \n",
        "def lemmatize_text(text):\n",
        "    return ' '.join(lemmatize_all(text))"
      ],
      "metadata": {
        "colab": {
          "base_uri": "https://localhost:8080/"
        },
        "id": "jzhCla2pAC1P",
        "outputId": "374d946a-ed56-43a4-a627-9fe76e51810f"
      },
      "execution_count": 14,
      "outputs": [
        {
          "output_type": "stream",
          "name": "stderr",
          "text": [
            "[nltk_data] Downloading package punkt to /root/nltk_data...\n",
            "[nltk_data]   Unzipping tokenizers/punkt.zip.\n",
            "[nltk_data] Downloading package averaged_perceptron_tagger to\n",
            "[nltk_data]     /root/nltk_data...\n",
            "[nltk_data]   Unzipping taggers/averaged_perceptron_tagger.zip.\n"
          ]
        }
      ]
    },
    {
      "cell_type": "code",
      "source": [
        "imdb['review'][1]"
      ],
      "metadata": {
        "colab": {
          "base_uri": "https://localhost:8080/",
          "height": 109
        },
        "id": "yxEq1ZCTAG64",
        "outputId": "3f2a9094-3f49-4a76-819c-2aa8e90833e5"
      },
      "execution_count": 15,
      "outputs": [
        {
          "output_type": "execute_result",
          "data": {
            "text/plain": [
              "'wonderful little production filming technique unassuming oldtimebbc fashion gives comforting sometimes discomforting sense realism entire piece actors extremely well chosen michael sheen got polari voices pat truly see seamless editing guided references williams diary entries well worth watching terrificly written performed piece masterful production one great masters comedy life realism really comes home little things fantasy guard rather use traditional dream techniques remains solid disappears plays knowledge senses particularly scenes concerning orton halliwell sets particularly flat halliwells murals decorating every surface terribly well done'"
            ],
            "application/vnd.google.colaboratory.intrinsic+json": {
              "type": "string"
            }
          },
          "metadata": {},
          "execution_count": 15
        }
      ]
    },
    {
      "cell_type": "code",
      "source": [
        ">>> nltk.download('omw-1.4')"
      ],
      "metadata": {
        "colab": {
          "base_uri": "https://localhost:8080/"
        },
        "id": "RUtnhcF2AKHx",
        "outputId": "be4787f8-c776-4bf8-bc77-86749cba9bc5"
      },
      "execution_count": 16,
      "outputs": [
        {
          "output_type": "stream",
          "name": "stderr",
          "text": [
            "[nltk_data] Downloading package omw-1.4 to /root/nltk_data...\n"
          ]
        },
        {
          "output_type": "execute_result",
          "data": {
            "text/plain": [
              "True"
            ]
          },
          "metadata": {},
          "execution_count": 16
        }
      ]
    },
    {
      "cell_type": "code",
      "source": [
        "%time lemmatize_text(imdb['review'][1])"
      ],
      "metadata": {
        "colab": {
          "base_uri": "https://localhost:8080/",
          "height": 145
        },
        "id": "rH7E7FnDANHR",
        "outputId": "5a864e1c-5f84-405c-f693-2656695cff0b"
      },
      "execution_count": 17,
      "outputs": [
        {
          "output_type": "stream",
          "name": "stdout",
          "text": [
            "CPU times: user 1.62 s, sys: 53.5 ms, total: 1.68 s\n",
            "Wall time: 1.68 s\n"
          ]
        },
        {
          "output_type": "execute_result",
          "data": {
            "text/plain": [
              "'wonderful little production film technique unassuming oldtimebbc fashion give comfort sometimes discomforting sense realism entire piece actor extremely well choose michael sheen get polari voice pat truly see seamless edit guided reference williams diary entry well worth watch terrificly write perform piece masterful production one great master comedy life realism really come home little thing fantasy guard rather use traditional dream technique remain solid disappears play knowledge sens particularly scene concern orton halliwell set particularly flat halliwells mural decorate every surface terribly well do'"
            ],
            "application/vnd.google.colaboratory.intrinsic+json": {
              "type": "string"
            }
          },
          "metadata": {},
          "execution_count": 17
        }
      ]
    },
    {
      "cell_type": "code",
      "source": [
        "imdb['review'] = imdb['review'].apply(simple_stemmer)"
      ],
      "metadata": {
        "id": "qJIiRNqKAQX3"
      },
      "execution_count": 18,
      "outputs": []
    },
    {
      "cell_type": "code",
      "source": [
        "#Example of randomly selected review text\n",
        "imdb['review'][456]"
      ],
      "metadata": {
        "colab": {
          "base_uri": "https://localhost:8080/",
          "height": 145
        },
        "id": "QzZs4eReAUBQ",
        "outputId": "25d7766c-6aea-4a34-df62-542d6ad2230f"
      },
      "execution_count": 19,
      "outputs": [
        {
          "output_type": "execute_result",
          "data": {
            "text/plain": [
              "'oh good would never thought possibl see thriller wors domest disturb soon arm rotten plot terribl edit stilt act headacheinduc style sorri word sanctimoni kind movi almost forc reevalu entir genr film bad even thriller condemn complet failur seem littl betternow sanctimoni terribl film also succeed difficult task rip better movi pathet job right main titl noth blatant attempt reproduc one se7en impress someth didnt smell quit right soon movi start seri corni wannab hip quickcut full gori imag bombast color knew smell come fromit turn two policemen rather policeman jim renart michael par policewoman dorothi smith jennif rubin investig murder spree vancouv serial killer known monkey killer menac chill nicknam uh work method kill quit lot peopl see nut appar work follow proverb see evil hear evil speak evil cut eye ear tongu victim far six eye six ear three tongu ingeni fashion renart smith figur monkey killer probabl go kill three peopl well probabl want complet number 666 sudden film focus tom gerrick casper van dien young success goodlook businessman dread temper that ripoff american psycho kick inso follow life two polic offic young psychopath none interest least final meet along way disco renart bare miss gerrick unintent offer us one funniest scene recent memori renart goe back disco club well script tell us suspect place one singl punch stomach renard get rid big guard block path guard never heard scene strike anyon els complet unrealisticanyway anoth murder gerrick turn wit smith especi renart immedi suspect might killer typic basic instinct fashion smith get date young businessman assumpt might discov true identityi wont spoil end quit simpli embarrass contradict plot hole issu never get resolv especi one last scene brutal mass murder suppos shock sad come laughabl overdon nonsens frank cant imagin anyon could laugh itat 87 minut sanctimoni realli push never care one singl charact flat mention bore know exact first time meet never pull stori scene connect weak plot devic downright unnecessari place act rang averag van dien downright atroci rubin support cast music abysm generic techno photographi one worst ever seen cours like everi fiasco genr provid littl bit gratuit nudity310'"
            ],
            "application/vnd.google.colaboratory.intrinsic+json": {
              "type": "string"
            }
          },
          "metadata": {},
          "execution_count": 19
        }
      ]
    },
    {
      "cell_type": "code",
      "source": [
        "#Creating features using Bag of words model and building the Logistic Regression model"
      ],
      "metadata": {
        "id": "jfwuar-GAae1"
      },
      "execution_count": 20,
      "outputs": []
    },
    {
      "cell_type": "code",
      "source": [
        "#Transformed train reviews\n",
        "norm_reviews=imdb.review"
      ],
      "metadata": {
        "id": "jiJc6nVqAccw"
      },
      "execution_count": 21,
      "outputs": []
    },
    {
      "cell_type": "code",
      "source": [
        "#Binarisation of Sentiments: Positive: 1, Negative: 0\n",
        "from sklearn.preprocessing import LabelBinarizer\n",
        "\n",
        "#Labelling the sentient data\n",
        "lb=LabelBinarizer()\n",
        "\n",
        "#Transformed sentiment data\n",
        "sentiment_data=lb.fit_transform(imdb['sentiment'])\n",
        "print(sentiment_data.shape)\n"
      ],
      "metadata": {
        "colab": {
          "base_uri": "https://localhost:8080/"
        },
        "id": "heU3vjvcAuEB",
        "outputId": "b202f79f-4af8-43b2-bd4a-d6e49394bd52"
      },
      "execution_count": 22,
      "outputs": [
        {
          "output_type": "stream",
          "name": "stdout",
          "text": [
            "(10000, 1)\n"
          ]
        }
      ]
    },
    {
      "cell_type": "code",
      "source": [
        "#Fitting the bag of words model on the entire dataset\n",
        "\n",
        "from sklearn.feature_extraction.text import CountVectorizer\n",
        "\n",
        "#Creating a matrix with reviews in row and unique words as columns and frequency of word in review as values.\n",
        "#Count vectorizer for bag of words\n",
        "cv=CountVectorizer()\n",
        "\n",
        "#Fitting model on entire data\n",
        "cv_fit = cv.fit(norm_reviews)"
      ],
      "metadata": {
        "id": "KS1Ln3XvA3B8"
      },
      "execution_count": 23,
      "outputs": []
    },
    {
      "cell_type": "code",
      "source": [
        "#Transform the train and the test dataset separately\n",
        "#Normalised train reviews\n",
        "norm_train_reviews=imdb.review[:8000]\n",
        "print('train:','\\n',norm_train_reviews[0])\n",
        "norm_train_cv_reviews=cv_fit.transform(norm_train_reviews)\n",
        "\n",
        "#Normalised test reviews\n",
        "norm_test_reviews=imdb.review[8000:]\n",
        "print('test:','\\n',norm_test_reviews[8001])\n",
        "norm_test_cv_reviews=cv_fit.transform(norm_test_reviews)"
      ],
      "metadata": {
        "colab": {
          "base_uri": "https://localhost:8080/"
        },
        "id": "InTEBX6FBDHM",
        "outputId": "9f8a26ad-e5db-4212-eba4-3349b7383eb5"
      },
      "execution_count": 24,
      "outputs": [
        {
          "output_type": "stream",
          "name": "stdout",
          "text": [
            "train: \n",
            " one review mention watch 1 oz episod youll hook right exact happen meth first thing struck oz brutal unflinch scene violenc set right word go trust show faint heart timid show pull punch regard drug sex violenc hardcor classic use wordit call oz nicknam given oswald maximum secur state penitentari focus main emerald citi experiment section prison cell glass front face inward privaci high agenda em citi home manyaryan muslim gangsta latino christian italian irish moreso scuffl death stare dodgi deal shadi agreement never far awayi would say main appeal show due fact goe show wouldnt dare forget pretti pictur paint mainstream audienc forget charm forget romanceoz doesnt mess around first episod ever saw struck nasti surreal couldnt say readi watch develop tast oz got accustom high level graphic violenc violenc injustic crook guard wholl sold nickel inmat wholl kill order get away well manner middl class inmat turn prison bitch due lack street skill prison experi watch oz may becom comfort uncomfort viewingthat get touch darker side\n",
            "test: \n",
            " go twin effect look pure hong kong movi experi disappoint say bad tradit hong kong action movi run similar vein shaolin soccer kung fu hustl resolut silli juvenil want good bit serious hong kong action look john woo yuen woo ping movi movi got lot flak silli thought first thing would explain your get disappoint lot puristsfor nonpurist forgiv tast though twin effect delight silli kungfu comedi like lot varieti reason least wonder femal lead spark thorough entertain comedi doubl act believ first movi type theyv hop kick fli like season prosth patent ridicul plot handl great deal care attent movi quit know written make lot movi laugh loud comedi realli promin thing subtl gentl comedi reliant word inanim object go fli la stephen chow said slapstick immens fun sequenc discodanc vampir total classicth action blend two genr realli fall period drama wireandsword fight come toward end comedi fight style jacki chan come blend though littl deriv time alway excit watch occasion throw genuin innov encountersal great movi tremend fun way despit stick point instanc twin effect mani way much westernis kungfu fan perhap use inevit comparison blade seri definit sound exampl though twin effect honest much better blade ever manag especi fight action person also bit shame see excel anthoni wong hissabl villain john woo classic hard boil underus younger audienc aim unlik notic inde know hard boil movi realli person gripeif watch open mind youll probabl enjoy great like must firm awar comedi ball wall kungfu movi keep mind youll fine\n"
          ]
        }
      ]
    },
    {
      "cell_type": "code",
      "source": [
        "#Splitting the output variable (sentiments) into test and train\n",
        "#Splitting the sentiment data\n",
        "train_sentiments=sentiment_data[:8000]\n",
        "test_sentiments=sentiment_data[8000:]\n"
      ],
      "metadata": {
        "id": "aJsti0oIBPQe"
      },
      "execution_count": 25,
      "outputs": []
    },
    {
      "cell_type": "code",
      "source": [
        "#Calculating sentiment count\n",
        "imdb['sentiment'].value_counts()"
      ],
      "metadata": {
        "colab": {
          "base_uri": "https://localhost:8080/"
        },
        "id": "7jNTb_e6BXKo",
        "outputId": "3c2823c4-3dfc-403d-a648-5d8b773acaa8"
      },
      "execution_count": 26,
      "outputs": [
        {
          "output_type": "execute_result",
          "data": {
            "text/plain": [
              "positive    5028\n",
              "negative    4972\n",
              "Name: sentiment, dtype: int64"
            ]
          },
          "metadata": {},
          "execution_count": 26
        }
      ]
    },
    {
      "cell_type": "code",
      "source": [
        "from keras.models import Sequential\n",
        "from keras.layers import Dense"
      ],
      "metadata": {
        "id": "XNKOSt4aBZ5h"
      },
      "execution_count": 27,
      "outputs": []
    },
    {
      "cell_type": "code",
      "source": [
        "n_w=norm_train_cv_reviews.shape[1]"
      ],
      "metadata": {
        "id": "-6XHQgLjBc3Q"
      },
      "execution_count": 28,
      "outputs": []
    },
    {
      "cell_type": "code",
      "source": [
        "model=Sequential()\n",
        "model.add(Dense(50,input_shape=(n_w,),activation='relu'))\n",
        "model.add(Dense(20,activation='relu'))\n",
        "#model.add(Dense(25,activation='relu'))\n",
        "\n",
        "model.add(Dense(1,activation='sigmoid'))\n",
        "model.compile(loss='binary_crossentropy',optimizer='adam',metrics=['accuracy'])"
      ],
      "metadata": {
        "id": "iNefx-XlBfen"
      },
      "execution_count": 29,
      "outputs": []
    },
    {
      "cell_type": "code",
      "source": [
        "history=model.fit(norm_train_cv_reviews,train_sentiments,epochs=10,verbose=2)"
      ],
      "metadata": {
        "colab": {
          "base_uri": "https://localhost:8080/"
        },
        "id": "kC5Iww6jBjQ4",
        "outputId": "8e36036c-343b-4818-9933-302c9691ca45"
      },
      "execution_count": 30,
      "outputs": [
        {
          "output_type": "stream",
          "name": "stdout",
          "text": [
            "Epoch 1/10\n",
            "250/250 - 5s - loss: 0.4000 - accuracy: 0.8370 - 5s/epoch - 20ms/step\n",
            "Epoch 2/10\n",
            "250/250 - 4s - loss: 0.1032 - accuracy: 0.9660 - 4s/epoch - 16ms/step\n",
            "Epoch 3/10\n",
            "250/250 - 4s - loss: 0.0244 - accuracy: 0.9946 - 4s/epoch - 16ms/step\n",
            "Epoch 4/10\n",
            "250/250 - 4s - loss: 0.0054 - accuracy: 0.9991 - 4s/epoch - 16ms/step\n",
            "Epoch 5/10\n",
            "250/250 - 4s - loss: 0.0014 - accuracy: 1.0000 - 4s/epoch - 18ms/step\n",
            "Epoch 6/10\n",
            "250/250 - 4s - loss: 4.7909e-04 - accuracy: 1.0000 - 4s/epoch - 16ms/step\n",
            "Epoch 7/10\n",
            "250/250 - 4s - loss: 2.2396e-04 - accuracy: 1.0000 - 4s/epoch - 16ms/step\n",
            "Epoch 8/10\n",
            "250/250 - 4s - loss: 1.2950e-04 - accuracy: 1.0000 - 4s/epoch - 16ms/step\n",
            "Epoch 9/10\n",
            "250/250 - 4s - loss: 8.1122e-05 - accuracy: 1.0000 - 4s/epoch - 16ms/step\n",
            "Epoch 10/10\n",
            "250/250 - 4s - loss: 5.3451e-05 - accuracy: 1.0000 - 4s/epoch - 16ms/step\n"
          ]
        }
      ]
    },
    {
      "cell_type": "code",
      "source": [
        "loss,acc=model.evaluate(norm_test_cv_reviews,test_sentiments)\n",
        "print(\"acccuracy\",acc*100,\"%\")"
      ],
      "metadata": {
        "colab": {
          "base_uri": "https://localhost:8080/"
        },
        "id": "fsmnH8VvBl6Q",
        "outputId": "2e6590aa-246c-4bd1-d7a5-fd7a1b272ea1"
      },
      "execution_count": 31,
      "outputs": [
        {
          "output_type": "stream",
          "name": "stdout",
          "text": [
            "63/63 [==============================] - 0s 2ms/step - loss: 0.8902 - accuracy: 0.8675\n",
            "acccuracy 86.75000071525574 %\n"
          ]
        }
      ]
    },
    {
      "cell_type": "code",
      "source": [
        "#unseeen external data\n",
        "t={'':[\"bad movie\"]}\n",
        "y=pd.DataFrame.from_dict(t,orient='index')\n",
        "test=cv_fit.transform(y[0])"
      ],
      "metadata": {
        "id": "eGWecn8kBpP5"
      },
      "execution_count": 32,
      "outputs": []
    },
    {
      "cell_type": "code",
      "source": [
        "model.predict(test)"
      ],
      "metadata": {
        "colab": {
          "base_uri": "https://localhost:8080/"
        },
        "id": "NY00SpS5Bt5z",
        "outputId": "651cb71e-cf78-46ef-ac21-f8a2f61073b1"
      },
      "execution_count": 33,
      "outputs": [
        {
          "output_type": "execute_result",
          "data": {
            "text/plain": [
              "array([[0.14018542]], dtype=float32)"
            ]
          },
          "metadata": {},
          "execution_count": 33
        }
      ]
    },
    {
      "cell_type": "code",
      "source": [
        "#Model building using Bag of words model- Logistic Regression"
      ],
      "metadata": {
        "id": "lAXdSrCvBuuJ"
      },
      "execution_count": 34,
      "outputs": []
    },
    {
      "cell_type": "code",
      "source": [
        "from sklearn.linear_model import LogisticRegression,SGDClassifier\n",
        "\n",
        "#Training the model\n",
        "lr=LogisticRegression(penalty='l2',max_iter=500,C=1,random_state=42)\n",
        "\n",
        "#Fitting the model for the bag of words\n",
        "lr_bow=lr.fit(norm_train_cv_reviews,train_sentiments)\n",
        "print(lr_bow)"
      ],
      "metadata": {
        "colab": {
          "base_uri": "https://localhost:8080/"
        },
        "id": "oGoA1EVWB0pM",
        "outputId": "a568ca6c-3e31-4cbd-dda2-cc3b0965686a"
      },
      "execution_count": 35,
      "outputs": [
        {
          "output_type": "stream",
          "name": "stdout",
          "text": [
            "LogisticRegression(C=1, max_iter=500, random_state=42)\n"
          ]
        }
      ]
    },
    {
      "cell_type": "code",
      "source": [
        "#Predicting the model for bag of words\n",
        "lr_bow_predict=lr.predict(norm_test_cv_reviews)\n",
        "print(lr_bow_predict)"
      ],
      "metadata": {
        "colab": {
          "base_uri": "https://localhost:8080/"
        },
        "id": "-SzGE1N_B32S",
        "outputId": "297f2799-ce94-4146-9a10-b722d4cf3bd0"
      },
      "execution_count": 36,
      "outputs": [
        {
          "output_type": "stream",
          "name": "stdout",
          "text": [
            "[1 1 1 ... 0 0 1]\n"
          ]
        }
      ]
    },
    {
      "cell_type": "code",
      "source": [
        "#Creating features using TF-IDF model and building the Logistic Regression model"
      ],
      "metadata": {
        "id": "DPDzRuiXDEV5"
      },
      "execution_count": 37,
      "outputs": []
    },
    {
      "cell_type": "code",
      "source": [
        "#Transformed train reviews\n",
        "norm_reviews=imdb.review"
      ],
      "metadata": {
        "id": "fLUv2HwxDNx-"
      },
      "execution_count": 38,
      "outputs": []
    },
    {
      "cell_type": "code",
      "source": [
        "#Fitting TF-IDF model on entire dataset.\n",
        "#Term-frequencey * inverse document frequency matrix\n",
        "from sklearn.feature_extraction.text import TfidfVectorizer\n",
        "\n",
        "#Applying TF-IDF vectorizer\n",
        "tv=TfidfVectorizer()\n",
        "\n",
        "#Fitting model on entire data\n",
        "tv_fit = tv.fit(norm_reviews)"
      ],
      "metadata": {
        "id": "t03X8mjODRqA"
      },
      "execution_count": 39,
      "outputs": []
    },
    {
      "cell_type": "code",
      "source": [
        "#Normalised train reviews\n",
        "norm_train_reviews=imdb.review[:8000]\n",
        "print('train:','\\n',norm_train_reviews[0])\n",
        "norm_train_tv_reviews=tv_fit.transform(norm_train_reviews)\n",
        "\n",
        "#Normalised test reviews\n",
        "norm_test_reviews=imdb.review[8000:]\n",
        "print('test:','\\n',norm_test_reviews[8001])\n",
        "norm_test_tv_reviews=tv_fit.transform(norm_test_reviews)"
      ],
      "metadata": {
        "colab": {
          "base_uri": "https://localhost:8080/"
        },
        "id": "RW9IR0AHDYo_",
        "outputId": "bbdbd366-9681-4fe3-89be-1202acd9d08c"
      },
      "execution_count": 40,
      "outputs": [
        {
          "output_type": "stream",
          "name": "stdout",
          "text": [
            "train: \n",
            " one review mention watch 1 oz episod youll hook right exact happen meth first thing struck oz brutal unflinch scene violenc set right word go trust show faint heart timid show pull punch regard drug sex violenc hardcor classic use wordit call oz nicknam given oswald maximum secur state penitentari focus main emerald citi experiment section prison cell glass front face inward privaci high agenda em citi home manyaryan muslim gangsta latino christian italian irish moreso scuffl death stare dodgi deal shadi agreement never far awayi would say main appeal show due fact goe show wouldnt dare forget pretti pictur paint mainstream audienc forget charm forget romanceoz doesnt mess around first episod ever saw struck nasti surreal couldnt say readi watch develop tast oz got accustom high level graphic violenc violenc injustic crook guard wholl sold nickel inmat wholl kill order get away well manner middl class inmat turn prison bitch due lack street skill prison experi watch oz may becom comfort uncomfort viewingthat get touch darker side\n",
            "test: \n",
            " go twin effect look pure hong kong movi experi disappoint say bad tradit hong kong action movi run similar vein shaolin soccer kung fu hustl resolut silli juvenil want good bit serious hong kong action look john woo yuen woo ping movi movi got lot flak silli thought first thing would explain your get disappoint lot puristsfor nonpurist forgiv tast though twin effect delight silli kungfu comedi like lot varieti reason least wonder femal lead spark thorough entertain comedi doubl act believ first movi type theyv hop kick fli like season prosth patent ridicul plot handl great deal care attent movi quit know written make lot movi laugh loud comedi realli promin thing subtl gentl comedi reliant word inanim object go fli la stephen chow said slapstick immens fun sequenc discodanc vampir total classicth action blend two genr realli fall period drama wireandsword fight come toward end comedi fight style jacki chan come blend though littl deriv time alway excit watch occasion throw genuin innov encountersal great movi tremend fun way despit stick point instanc twin effect mani way much westernis kungfu fan perhap use inevit comparison blade seri definit sound exampl though twin effect honest much better blade ever manag especi fight action person also bit shame see excel anthoni wong hissabl villain john woo classic hard boil underus younger audienc aim unlik notic inde know hard boil movi realli person gripeif watch open mind youll probabl enjoy great like must firm awar comedi ball wall kungfu movi keep mind youll fine\n"
          ]
        }
      ]
    },
    {
      "cell_type": "code",
      "source": [
        "n_w_tf=norm_train_tv_reviews.shape[1]"
      ],
      "metadata": {
        "id": "Tt04jlIBDdmx"
      },
      "execution_count": 41,
      "outputs": []
    },
    {
      "cell_type": "code",
      "source": [
        "norm_train_tv_reviews.toarray()"
      ],
      "metadata": {
        "colab": {
          "base_uri": "https://localhost:8080/"
        },
        "id": "nW4n6q4FDhKP",
        "outputId": "719a6553-8d91-4b13-ba0b-338c056a68d8"
      },
      "execution_count": 42,
      "outputs": [
        {
          "output_type": "execute_result",
          "data": {
            "text/plain": [
              "array([[0., 0., 0., ..., 0., 0., 0.],\n",
              "       [0., 0., 0., ..., 0., 0., 0.],\n",
              "       [0., 0., 0., ..., 0., 0., 0.],\n",
              "       ...,\n",
              "       [0., 0., 0., ..., 0., 0., 0.],\n",
              "       [0., 0., 0., ..., 0., 0., 0.],\n",
              "       [0., 0., 0., ..., 0., 0., 0.]])"
            ]
          },
          "metadata": {},
          "execution_count": 42
        }
      ]
    },
    {
      "cell_type": "code",
      "source": [
        "norm_train_tv_reviews"
      ],
      "metadata": {
        "colab": {
          "base_uri": "https://localhost:8080/"
        },
        "id": "AlUn2MLcDjag",
        "outputId": "50f050ce-6d04-4f5e-bb8f-b2223df3bde0"
      },
      "execution_count": 43,
      "outputs": [
        {
          "output_type": "execute_result",
          "data": {
            "text/plain": [
              "<8000x62623 sparse matrix of type '<class 'numpy.float64'>'\n",
              "\twith 765816 stored elements in Compressed Sparse Row format>"
            ]
          },
          "metadata": {},
          "execution_count": 43
        }
      ]
    },
    {
      "cell_type": "code",
      "source": [
        "#Splitting the output variable (sentiments) into test and train"
      ],
      "metadata": {
        "id": "Q0c8kRwEDmWS"
      },
      "execution_count": 44,
      "outputs": []
    },
    {
      "cell_type": "code",
      "source": [
        "#Splitting the sentiment data\n",
        "train_sentiments=sentiment_data[:8000]\n",
        "test_sentiments=sentiment_data[8000:]"
      ],
      "metadata": {
        "id": "cjx0f1LLDq_j"
      },
      "execution_count": 45,
      "outputs": []
    },
    {
      "cell_type": "code",
      "source": [
        "model_tf=Sequential()\n",
        "model_tf.add(Dense(50,input_shape=(n_w_tf,),activation='relu'))\n",
        "model_tf.add(Dense(20,activation='relu'))\n",
        "#model.add(Dense(25,activation='relu'))\n",
        "\n",
        "model_tf.add(Dense(1,activation='sigmoid'))\n",
        "model_tf.compile(loss='binary_crossentropy',optimizer='adam',metrics=['accuracy'])"
      ],
      "metadata": {
        "id": "vudZn-phDuqS"
      },
      "execution_count": 46,
      "outputs": []
    },
    {
      "cell_type": "code",
      "source": [
        "#history=model_tf.fit(norm_train_tv_reviews,train_sentiments,epochs=10,verbose=2)"
      ],
      "metadata": {
        "id": "tN0av-v9DxyB"
      },
      "execution_count": 47,
      "outputs": []
    },
    {
      "cell_type": "code",
      "source": [
        "#Model building using TF-IDF model- Logistic Regression"
      ],
      "metadata": {
        "id": "Sg-3IQRWD0T7"
      },
      "execution_count": 48,
      "outputs": []
    },
    {
      "cell_type": "code",
      "source": [
        "from sklearn.linear_model import LogisticRegression,SGDClassifier\n",
        "\n",
        "#Training the model\n",
        "lr=LogisticRegression(penalty='l2',max_iter=500,C=1,random_state=42)\n",
        "\n",
        "#Fitting the model for tf-idf features\n",
        "lr_tfidf=lr.fit(norm_train_tv_reviews,train_sentiments)\n",
        "print(lr_tfidf)"
      ],
      "metadata": {
        "colab": {
          "base_uri": "https://localhost:8080/"
        },
        "id": "iBA-_JLJFSQV",
        "outputId": "aff30ae7-c015-4f5f-f367-30c9d4f26d33"
      },
      "execution_count": 49,
      "outputs": [
        {
          "output_type": "stream",
          "name": "stdout",
          "text": [
            "LogisticRegression(C=1, max_iter=500, random_state=42)\n"
          ]
        }
      ]
    },
    {
      "cell_type": "code",
      "source": [
        "\n",
        "\n",
        "#Predicting the model for tf-idf features\n",
        "lr_tfidf_predict=lr.predict(norm_test_tv_reviews)\n",
        "print(lr_tfidf_predict)"
      ],
      "metadata": {
        "colab": {
          "base_uri": "https://localhost:8080/"
        },
        "id": "_-uhqn9iFWMU",
        "outputId": "2a2c419d-ef93-455c-e5e1-53ea3aad1517"
      },
      "execution_count": 50,
      "outputs": [
        {
          "output_type": "stream",
          "name": "stdout",
          "text": [
            "[1 1 1 ... 0 0 1]\n"
          ]
        }
      ]
    },
    {
      "cell_type": "code",
      "source": [
        "#Model Comparison\n",
        "\n",
        "from sklearn.metrics import classification_report,confusion_matrix,accuracy_score\n",
        "\n",
        "#Accuracy score for bag of words\n",
        "lr_bow_score=accuracy_score(test_sentiments,lr_bow_predict)\n",
        "print(\"lr_bow_score :\",lr_bow_score)\n",
        "\n",
        "#Accuracy score for tfidf features\n",
        "lr_tfidf_score=accuracy_score(test_sentiments,lr_tfidf_predict)\n",
        "print(\"lr_tfidf_score :\",lr_tfidf_score)\n",
        "\n"
      ],
      "metadata": {
        "colab": {
          "base_uri": "https://localhost:8080/"
        },
        "id": "kpC-3egVFdnd",
        "outputId": "8dfbcd24-a038-49db-cb0c-1e640017c472"
      },
      "execution_count": 51,
      "outputs": [
        {
          "output_type": "stream",
          "name": "stdout",
          "text": [
            "lr_bow_score : 0.8645\n",
            "lr_tfidf_score : 0.8675\n"
          ]
        }
      ]
    },
    {
      "cell_type": "code",
      "source": [
        "#Confusion matrix for bag of words\n",
        "cm_bow=confusion_matrix(test_sentiments,lr_bow_predict,labels=[1,0])\n",
        "print(cm_bow)\n",
        "\n",
        "#Confusion matrix for tfidf features\n",
        "cm_tfidf=confusion_matrix(test_sentiments,lr_tfidf_predict,labels=[1,0])\n",
        "print(cm_tfidf)"
      ],
      "metadata": {
        "colab": {
          "base_uri": "https://localhost:8080/"
        },
        "id": "yvm59GoCFqov",
        "outputId": "c3f577e4-32bf-4c16-d76d-fa0f7f8be16d"
      },
      "execution_count": 52,
      "outputs": [
        {
          "output_type": "stream",
          "name": "stdout",
          "text": [
            "[[901 124]\n",
            " [147 828]]\n",
            "[[922 103]\n",
            " [162 813]]\n"
          ]
        }
      ]
    },
    {
      "cell_type": "code",
      "source": [
        ""
      ],
      "metadata": {
        "id": "BI6D-LT7Fu5c"
      },
      "execution_count": 52,
      "outputs": []
    }
  ]
}